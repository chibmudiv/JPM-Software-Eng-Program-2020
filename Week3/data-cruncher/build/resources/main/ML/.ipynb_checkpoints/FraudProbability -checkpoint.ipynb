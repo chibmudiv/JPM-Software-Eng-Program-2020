{
 "cells": [
  {
   "cell_type": "code",
   "execution_count": null,
   "metadata": {},
   "outputs": [
    {
     "name": "stdout",
     "output_type": "stream",
     "text": [
      "\n"
     ]
    }
   ],
   "source": [
    "#import pandas\n",
    "import pandas as pd\n",
    "import numpy as np\n",
    "\n",
    "print()\n",
    "#col_names = ['step', 'customer', 'age', 'gender', 'zipcodeOri', 'merchant', 'zipMerchant', 'category', 'amount', 'fraud', 'NoOfFraudulentTransactions', 'AvgAmount']\n",
    "col_names = ['amount', 'fraud', 'NoOfFraudulentTransactions', 'AvgAmount']\n",
    "#load dataset\n",
    "transactions = pd.read_csv(\"payments2.csv\", header=1, names=col_names)\n",
    "\n",
    "transactions.head()\n",
    "\n",
    "#splitting dataset into features and target variables\n",
    "feature_cols = ['amount', 'fraud', 'NoOfFraudulentTransactions', 'AvgAmount'] #['step', 'amount', 'gender', 'zipcodeOri', 'merchant', 'zipMerchant', 'amount', 'NoOfFraudulentTransactions', 'AvgAmount']\n",
    "X = transactions[feature_cols] #features\n",
    "y = transactions.fraud #Target Variable\n",
    "\n",
    "from sklearn.model_selection import train_test_split\n",
    "X_train, X_test, y_train, y_test=train_test_split(X,y,test_size=0.25, random_state=0)\n",
    "\n",
    "from sklearn.linear_model import LogisticRegression\n",
    "\n",
    "#instantiating model \n",
    "logreg = LogisticRegression()\n",
    "\n",
    "#fit model with data\n",
    "logreg.fit(X_train, y_train)\n",
    "\n",
    "y_pred=logreg.predict(X_test)"
   ]
  },
  {
   "cell_type": "code",
   "execution_count": null,
   "metadata": {},
   "outputs": [],
   "source": []
  },
  {
   "cell_type": "code",
   "execution_count": null,
   "metadata": {},
   "outputs": [],
   "source": []
  },
  {
   "cell_type": "code",
   "execution_count": null,
   "metadata": {},
   "outputs": [],
   "source": []
  },
  {
   "cell_type": "code",
   "execution_count": null,
   "metadata": {},
   "outputs": [],
   "source": [
    "\n"
   ]
  },
  {
   "cell_type": "code",
   "execution_count": null,
   "metadata": {},
   "outputs": [],
   "source": []
  },
  {
   "cell_type": "code",
   "execution_count": null,
   "metadata": {},
   "outputs": [],
   "source": []
  }
 ],
 "metadata": {
  "kernelspec": {
   "display_name": "Python 3",
   "language": "python",
   "name": "python3"
  },
  "language_info": {
   "codemirror_mode": {
    "name": "ipython",
    "version": 3
   },
   "file_extension": ".py",
   "mimetype": "text/x-python",
   "name": "python",
   "nbconvert_exporter": "python",
   "pygments_lexer": "ipython3",
   "version": "3.7.7"
  }
 },
 "nbformat": 4,
 "nbformat_minor": 4
}
