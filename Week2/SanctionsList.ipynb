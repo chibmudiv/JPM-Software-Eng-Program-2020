{
 "cells": [
  {
   "cell_type": "code",
   "execution_count": 19,
   "metadata": {},
   "outputs": [],
   "source": [
    "def comparator(sanction, entry):\n",
    "    maxSanc = len(sanction)\n",
    "    maxEntry = len(entry)\n",
    "   # print(maxSanc, \"max\", maxEntry, \"entry\")\n",
    "    if (sanction==entry):\n",
    "        return 100      \n",
    "    elif (len(sanction)<len(entry)):\n",
    "        a = sanction\n",
    "        b = entry\n",
    "        count = 0\n",
    "        for i in range(len(a)):\n",
    "            #print(i, \"optionA\")\n",
    "            if (a[i]==b[i]):\n",
    "                count+= 1\n",
    "    else:\n",
    "        a = entry\n",
    "        b = sanction\n",
    "        count = 0\n",
    "        for i in range(len(a)):\n",
    "           # print(i, \"optionB\")\n",
    "            if (a[i]==b[i]):\n",
    "                count+= 1           \n",
    "    percentage = (count/maxSanc) * 100\n",
    "    return percentage     \n",
    "            \n"
   ]
  },
  {
   "cell_type": "code",
   "execution_count": 20,
   "metadata": {},
   "outputs": [],
   "source": [
    "def Solution():\n",
    "    import csv\n",
    "    Sanctions = list()\n",
    "    with open('sanctionsList.csv', mode='r') as csv_file:\n",
    "            csv_reader = csv.reader(csv_file, delimiter=',')\n",
    "            line_count = 0\n",
    "            for row in csv_reader:\n",
    "                Sanctions = row\n",
    "    userEntry = input('Enter payee name')\n",
    "    currentPercentage = 0\n",
    "    for values in Sanctions:\n",
    "        currentPercentage = comparator(values, userEntry)\n",
    "        #print(currentPercentage, \"total percentage\")\n",
    "        if (currentPercentage>= 75):\n",
    "            return(\"Hit\")\n",
    "    return(\"No hit\")"
   ]
  },
  {
   "cell_type": "code",
   "execution_count": 21,
   "metadata": {
    "scrolled": true
   },
   "outputs": [
    {
     "name": "stdout",
     "output_type": "stream",
     "text": [
      "Enter payee nameIcelans\n",
      "Hit\n"
     ]
    }
   ],
   "source": [
    "print(Solution())"
   ]
  },
  {
   "cell_type": "code",
   "execution_count": null,
   "metadata": {},
   "outputs": [],
   "source": []
  },
  {
   "cell_type": "code",
   "execution_count": null,
   "metadata": {},
   "outputs": [],
   "source": []
  },
  {
   "cell_type": "code",
   "execution_count": null,
   "metadata": {},
   "outputs": [],
   "source": []
  },
  {
   "cell_type": "code",
   "execution_count": null,
   "metadata": {},
   "outputs": [],
   "source": []
  },
  {
   "cell_type": "code",
   "execution_count": null,
   "metadata": {},
   "outputs": [],
   "source": []
  },
  {
   "cell_type": "code",
   "execution_count": null,
   "metadata": {},
   "outputs": [],
   "source": []
  }
 ],
 "metadata": {
  "kernelspec": {
   "display_name": "Python 3",
   "language": "python",
   "name": "python3"
  },
  "language_info": {
   "codemirror_mode": {
    "name": "ipython",
    "version": 3
   },
   "file_extension": ".py",
   "mimetype": "text/x-python",
   "name": "python",
   "nbconvert_exporter": "python",
   "pygments_lexer": "ipython3",
   "version": "3.7.7"
  }
 },
 "nbformat": 4,
 "nbformat_minor": 4
}
